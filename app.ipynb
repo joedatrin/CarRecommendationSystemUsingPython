{
 "cells": [
  {
   "cell_type": "code",
   "execution_count": 1,
   "id": "formed-expression",
   "metadata": {},
   "outputs": [],
   "source": [
    "import numpy as np \n",
    "import pandas as pd \n",
    "from sklearn.metrics import confusion_matrix \n",
    "from sklearn.model_selection import train_test_split \n",
    "from sklearn.tree import DecisionTreeClassifier \n",
    "from sklearn.metrics import accuracy_score \n",
    "from sklearn.metrics import classification_report "
   ]
  },
  {
   "cell_type": "code",
   "execution_count": 2,
   "id": "moved-juvenile",
   "metadata": {},
   "outputs": [],
   "source": [
    "ds = pd.read_csv(\"data_set_6.csv\")"
   ]
  },
  {
   "cell_type": "code",
   "execution_count": 3,
   "id": "governing-bosnia",
   "metadata": {},
   "outputs": [
    {
     "data": {
      "text/html": [
       "<div>\n",
       "<style scoped>\n",
       "    .dataframe tbody tr th:only-of-type {\n",
       "        vertical-align: middle;\n",
       "    }\n",
       "\n",
       "    .dataframe tbody tr th {\n",
       "        vertical-align: top;\n",
       "    }\n",
       "\n",
       "    .dataframe thead th {\n",
       "        text-align: right;\n",
       "    }\n",
       "</style>\n",
       "<table border=\"1\" class=\"dataframe\">\n",
       "  <thead>\n",
       "    <tr style=\"text-align: right;\">\n",
       "      <th></th>\n",
       "      <th>Unnamed: 0</th>\n",
       "      <th>Company</th>\n",
       "      <th>fuel-type</th>\n",
       "      <th>num-of-doors</th>\n",
       "      <th>body-style</th>\n",
       "      <th>length</th>\n",
       "      <th>num-of-cylinders</th>\n",
       "      <th>peak-rpm</th>\n",
       "      <th>city-mpg</th>\n",
       "      <th>highway-mpg</th>\n",
       "      <th>price</th>\n",
       "      <th>Gear-type</th>\n",
       "    </tr>\n",
       "  </thead>\n",
       "  <tbody>\n",
       "    <tr>\n",
       "      <th>0</th>\n",
       "      <td>0</td>\n",
       "      <td>alfa-romero</td>\n",
       "      <td>1</td>\n",
       "      <td>2</td>\n",
       "      <td>1</td>\n",
       "      <td>168.8</td>\n",
       "      <td>4</td>\n",
       "      <td>5000</td>\n",
       "      <td>9</td>\n",
       "      <td>11</td>\n",
       "      <td>1012125</td>\n",
       "      <td>1</td>\n",
       "    </tr>\n",
       "    <tr>\n",
       "      <th>1</th>\n",
       "      <td>1</td>\n",
       "      <td>alfa-romero</td>\n",
       "      <td>1</td>\n",
       "      <td>2</td>\n",
       "      <td>1</td>\n",
       "      <td>168.8</td>\n",
       "      <td>4</td>\n",
       "      <td>5000</td>\n",
       "      <td>9</td>\n",
       "      <td>11</td>\n",
       "      <td>1237500</td>\n",
       "      <td>2</td>\n",
       "    </tr>\n",
       "    <tr>\n",
       "      <th>2</th>\n",
       "      <td>2</td>\n",
       "      <td>alfa-romero</td>\n",
       "      <td>1</td>\n",
       "      <td>2</td>\n",
       "      <td>2</td>\n",
       "      <td>171.2</td>\n",
       "      <td>6</td>\n",
       "      <td>5000</td>\n",
       "      <td>8</td>\n",
       "      <td>11</td>\n",
       "      <td>1237500</td>\n",
       "      <td>1</td>\n",
       "    </tr>\n",
       "    <tr>\n",
       "      <th>3</th>\n",
       "      <td>3</td>\n",
       "      <td>audi</td>\n",
       "      <td>1</td>\n",
       "      <td>4</td>\n",
       "      <td>3</td>\n",
       "      <td>176.6</td>\n",
       "      <td>4</td>\n",
       "      <td>5500</td>\n",
       "      <td>10</td>\n",
       "      <td>12</td>\n",
       "      <td>1046250</td>\n",
       "      <td>2</td>\n",
       "    </tr>\n",
       "    <tr>\n",
       "      <th>4</th>\n",
       "      <td>4</td>\n",
       "      <td>audi</td>\n",
       "      <td>1</td>\n",
       "      <td>4</td>\n",
       "      <td>3</td>\n",
       "      <td>176.6</td>\n",
       "      <td>5</td>\n",
       "      <td>5500</td>\n",
       "      <td>7</td>\n",
       "      <td>9</td>\n",
       "      <td>1308750</td>\n",
       "      <td>1</td>\n",
       "    </tr>\n",
       "  </tbody>\n",
       "</table>\n",
       "</div>"
      ],
      "text/plain": [
       "   Unnamed: 0      Company  fuel-type  num-of-doors  body-style  length  \\\n",
       "0           0  alfa-romero          1             2           1   168.8   \n",
       "1           1  alfa-romero          1             2           1   168.8   \n",
       "2           2  alfa-romero          1             2           2   171.2   \n",
       "3           3         audi          1             4           3   176.6   \n",
       "4           4         audi          1             4           3   176.6   \n",
       "\n",
       "   num-of-cylinders  peak-rpm  city-mpg  highway-mpg    price  Gear-type  \n",
       "0                 4      5000         9           11  1012125          1  \n",
       "1                 4      5000         9           11  1237500          2  \n",
       "2                 6      5000         8           11  1237500          1  \n",
       "3                 4      5500        10           12  1046250          2  \n",
       "4                 5      5500         7            9  1308750          1  "
      ]
     },
     "execution_count": 3,
     "metadata": {},
     "output_type": "execute_result"
    }
   ],
   "source": [
    "ds.head()"
   ]
  },
  {
   "cell_type": "code",
   "execution_count": 4,
   "id": "chicken-lloyd",
   "metadata": {},
   "outputs": [
    {
     "name": "stdout",
     "output_type": "stream",
     "text": [
      "['alfa-romero' 'audi' 'bmw' 'chevrolet' 'dodge' 'honda' 'isuzu' 'jaguar'\n",
      " 'mazda' 'mercedes-benz' 'mercury' 'mitsubishi' 'nissan' 'peugot'\n",
      " 'plymouth' 'porsche' 'renault' 'saab' 'subaru' 'toyota' 'volkswagen'\n",
      " 'volvo']\n"
     ]
    }
   ],
   "source": [
    "#print(record['continent'].unique()) \n",
    "print(ds['Company'].unique())"
   ]
  },
  {
   "cell_type": "code",
   "execution_count": 5,
   "id": "corporate-tenant",
   "metadata": {},
   "outputs": [],
   "source": [
    "predict_result={\"alfa-romero\" : \"alfa-romero\",\n",
    "                \"audi\" : \"audi\",\n",
    "                \"bmw\" : \"bmw\",\n",
    "                \"chevrolet\" : \"chevrolet\",\n",
    "                \"dodge\" : \"dodge\",\n",
    "                \"honda\":\"honda\",\n",
    "                \"isuzu\":\"isuzu\",\n",
    "                \"jaguar\":\"jaguar\",\n",
    "                \"mazda\":\"mazda\",\n",
    "                \"mercedes-benz\":\"mercedes-benz\",\n",
    "                \"mercury\":\"mercury\",\n",
    "                \"mitsubishi\":\"mitsubishi\",\n",
    "                \"nissan\":\"nissan\",\n",
    "                \"peugot\":\"peugot\",\n",
    "                \"plymouth\":\"plymouth\",\n",
    "                \"porsche\":\"porsche\",\n",
    "                \"renault\":\"renault\",\n",
    "                \"saab\":\"saab\",\n",
    "                \"subaru\":\"subaru\",\n",
    "                \"toyota\":\"toyota\",\n",
    "                \"volkswagen\":\"volkswagen\",\n",
    "                \"volvo\":\"volvo\"}\n"
   ]
  },
  {
   "cell_type": "code",
   "execution_count": 6,
   "id": "decreased-exception",
   "metadata": {},
   "outputs": [
    {
     "name": "stdout",
     "output_type": "stream",
     "text": [
      "Dataset Length:  205\n",
      "Dataset Shape:  (205, 12)\n"
     ]
    }
   ],
   "source": [
    "print (\"Dataset Length: \", len(ds)) \n",
    "print (\"Dataset Shape: \", ds.shape) "
   ]
  },
  {
   "cell_type": "code",
   "execution_count": 7,
   "id": "egyptian-mexican",
   "metadata": {},
   "outputs": [
    {
     "name": "stdout",
     "output_type": "stream",
     "text": [
      "Dataset:     Unnamed: 0      Company  fuel-type  num-of-doors  body-style  length  \\\n",
      "0           0  alfa-romero          1             2           1   168.8   \n",
      "1           1  alfa-romero          1             2           1   168.8   \n",
      "2           2  alfa-romero          1             2           2   171.2   \n",
      "3           3         audi          1             4           3   176.6   \n",
      "4           4         audi          1             4           3   176.6   \n",
      "\n",
      "   num-of-cylinders  peak-rpm  city-mpg  highway-mpg    price  Gear-type  \n",
      "0                 4      5000         9           11  1012125          1  \n",
      "1                 4      5000         9           11  1237500          2  \n",
      "2                 6      5000         8           11  1237500          1  \n",
      "3                 4      5500        10           12  1046250          2  \n",
      "4                 5      5500         7            9  1308750          1  \n",
      "[[1 2 1 ... 11 1012125 1]\n",
      " [1 2 1 ... 11 1237500 2]\n",
      " [1 2 2 ... 11 1237500 1]\n",
      " ...\n",
      " [1 4 3 ... 9 1611375 1]\n",
      " [2 4 3 ... 11 1685250 2]\n",
      " [1 4 3 ... 10 1696875 1]]\n"
     ]
    }
   ],
   "source": [
    "print (\"Dataset: \",ds.head())\n",
    "\n",
    "X = ds.values[:, 2:] \n",
    "Y = ds.values[:, 1] \n",
    "print(X)"
   ]
  },
  {
   "cell_type": "code",
   "execution_count": 8,
   "id": "southern-pursuit",
   "metadata": {},
   "outputs": [
    {
     "name": "stdout",
     "output_type": "stream",
     "text": [
      "['alfa-romero' 'alfa-romero' 'alfa-romero' 'audi' 'audi' 'audi' 'audi'\n",
      " 'audi' 'audi' 'audi' 'bmw' 'bmw' 'bmw' 'bmw' 'bmw' 'bmw' 'bmw' 'bmw'\n",
      " 'chevrolet' 'chevrolet' 'chevrolet' 'dodge' 'dodge' 'dodge' 'dodge'\n",
      " 'dodge' 'dodge' 'dodge' 'dodge' 'dodge' 'honda' 'honda' 'honda' 'honda'\n",
      " 'honda' 'honda' 'honda' 'honda' 'honda' 'honda' 'honda' 'honda' 'honda'\n",
      " 'isuzu' 'isuzu' 'isuzu' 'isuzu' 'jaguar' 'jaguar' 'jaguar' 'mazda'\n",
      " 'mazda' 'mazda' 'mazda' 'mazda' 'mazda' 'mazda' 'mazda' 'mazda' 'mazda'\n",
      " 'mazda' 'mazda' 'mazda' 'mazda' 'mazda' 'mazda' 'mazda' 'mercedes-benz'\n",
      " 'mercedes-benz' 'mercedes-benz' 'mercedes-benz' 'mercedes-benz'\n",
      " 'mercedes-benz' 'mercedes-benz' 'mercedes-benz' 'mercury' 'mitsubishi'\n",
      " 'mitsubishi' 'mitsubishi' 'mitsubishi' 'mitsubishi' 'mitsubishi'\n",
      " 'mitsubishi' 'mitsubishi' 'mitsubishi' 'mitsubishi' 'mitsubishi'\n",
      " 'mitsubishi' 'mitsubishi' 'nissan' 'nissan' 'nissan' 'nissan' 'nissan'\n",
      " 'nissan' 'nissan' 'nissan' 'nissan' 'nissan' 'nissan' 'nissan' 'nissan'\n",
      " 'nissan' 'nissan' 'nissan' 'nissan' 'nissan' 'peugot' 'peugot' 'peugot'\n",
      " 'peugot' 'peugot' 'peugot' 'peugot' 'peugot' 'peugot' 'peugot' 'peugot'\n",
      " 'plymouth' 'plymouth' 'plymouth' 'plymouth' 'plymouth' 'plymouth'\n",
      " 'plymouth' 'porsche' 'porsche' 'porsche' 'porsche' 'porsche' 'renault'\n",
      " 'renault' 'saab' 'saab' 'saab' 'saab' 'saab' 'saab' 'subaru' 'subaru'\n",
      " 'subaru' 'subaru' 'subaru' 'subaru' 'subaru' 'subaru' 'subaru' 'subaru'\n",
      " 'subaru' 'subaru' 'toyota' 'toyota' 'toyota' 'toyota' 'toyota' 'toyota'\n",
      " 'toyota' 'toyota' 'toyota' 'toyota' 'toyota' 'toyota' 'toyota' 'toyota'\n",
      " 'toyota' 'toyota' 'toyota' 'toyota' 'toyota' 'toyota' 'toyota' 'toyota'\n",
      " 'toyota' 'toyota' 'toyota' 'toyota' 'toyota' 'toyota' 'toyota' 'toyota'\n",
      " 'toyota' 'toyota' 'volkswagen' 'volkswagen' 'volkswagen' 'volkswagen'\n",
      " 'volkswagen' 'volkswagen' 'volkswagen' 'volkswagen' 'volkswagen'\n",
      " 'volkswagen' 'volkswagen' 'volkswagen' 'volvo' 'volvo' 'volvo' 'volvo'\n",
      " 'volvo' 'volvo' 'volvo' 'volvo' 'volvo' 'volvo' 'volvo']\n"
     ]
    }
   ],
   "source": [
    "print(Y)"
   ]
  },
  {
   "cell_type": "code",
   "execution_count": 9,
   "id": "embedded-client",
   "metadata": {},
   "outputs": [],
   "source": [
    "# Spliting the dataset into train and test \n",
    "X_train, X_test, y_train, y_test = train_test_split(X, Y, test_size = 0.3, random_state = 100) \n"
   ]
  },
  {
   "cell_type": "code",
   "execution_count": 10,
   "id": "happy-isolation",
   "metadata": {},
   "outputs": [],
   "source": [
    "model = DecisionTreeClassifier(criterion = \"gini\", random_state = 100,max_depth=3, min_samples_leaf=5) "
   ]
  },
  {
   "cell_type": "code",
   "execution_count": 11,
   "id": "contemporary-aquatic",
   "metadata": {},
   "outputs": [
    {
     "data": {
      "text/plain": [
       "DecisionTreeClassifier(max_depth=3, min_samples_leaf=5, random_state=100)"
      ]
     },
     "execution_count": 11,
     "metadata": {},
     "output_type": "execute_result"
    }
   ],
   "source": [
    "# Actual training process \n",
    "model.fit(X_train, y_train) "
   ]
  },
  {
   "cell_type": "code",
   "execution_count": 12,
   "id": "hazardous-capability",
   "metadata": {},
   "outputs": [
    {
     "name": "stdout",
     "output_type": "stream",
     "text": [
      "Predicted values:\n",
      "['toyota' 'dodge' 'toyota' 'honda' 'toyota' 'toyota' 'peugot' 'peugot'\n",
      " 'peugot' 'toyota' 'audi' 'audi' 'peugot' 'mazda' 'peugot' 'honda'\n",
      " 'toyota' 'audi' 'peugot' 'peugot' 'audi' 'audi' 'mazda' 'dodge' 'toyota'\n",
      " 'nissan' 'peugot' 'peugot' 'mazda' 'toyota' 'dodge' 'audi' 'peugot'\n",
      " 'audi' 'peugot' 'toyota' 'audi' 'toyota' 'nissan' 'toyota' 'peugot'\n",
      " 'audi' 'toyota' 'toyota' 'dodge' 'nissan' 'dodge' 'dodge' 'toyota'\n",
      " 'toyota' 'toyota' 'toyota' 'toyota' 'audi' 'audi' 'toyota' 'toyota'\n",
      " 'toyota' 'peugot' 'toyota' 'mazda' 'mazda']\n"
     ]
    }
   ],
   "source": [
    "y_pred = model.predict(X_test) \n",
    "print(\"Predicted values:\") \n",
    "print(y_pred)"
   ]
  },
  {
   "cell_type": "code",
   "execution_count": 13,
   "id": "vietnamese-theory",
   "metadata": {},
   "outputs": [
    {
     "name": "stdout",
     "output_type": "stream",
     "text": [
      "Confusion Matrix:\n",
      "  [[ 2  0  0  0  0  0  0  0  0  0  0  0  0  0  0  0  0  0]\n",
      " [ 1  0  0  0  0  1  0  0  0  0  0  0  0  0  0  0  0  0]\n",
      " [ 0  0  1  0  0  0  0  0  0  0  1  0  0  0  0  1  0  0]\n",
      " [ 0  0  1  1  0  2  0  0  0  0  0  0  0  0  0  0  0  0]\n",
      " [ 0  0  0  0  0  0  0  0  0  0  0  0  0  0  0  1  0  0]\n",
      " [ 0  0  0  0  0  0  0  0  0  0  1  0  0  0  0  3  0  0]\n",
      " [ 0  0  0  0  0  0  0  0  0  0  3  0  0  0  0  0  0  0]\n",
      " [ 0  0  0  0  0  0  0  0  0  0  1  0  0  0  0  0  0  0]\n",
      " [ 0  0  2  0  0  0  0  0  0  0  1  0  0  0  0  1  0  0]\n",
      " [ 0  0  0  0  0  0  0  0  0  3  0  0  0  0  0  1  0  0]\n",
      " [ 0  0  0  0  0  0  0  0  0  0  3  0  0  0  0  0  0  0]\n",
      " [ 0  0  1  0  0  0  0  0  0  0  1  0  0  0  0  1  0  0]\n",
      " [ 0  0  0  0  0  2  0  0  0  0  0  0  0  0  0  0  0  0]\n",
      " [ 3  0  0  0  0  0  0  0  0  0  0  0  0  0  0  0  0  0]\n",
      " [ 0  0  0  0  0  0  0  0  0  0  0  0  0  0  0  1  0  0]\n",
      " [ 0  0  0  1  0  0  0  0  0  0  1  0  0  0  0 10  0  0]\n",
      " [ 1  0  1  0  0  0  0  0  0  0  0  0  0  0  0  3  0  0]\n",
      " [ 4  0  0  0  0  0  0  0  0  0  1  0  0  0  0  0  0  0]]\n"
     ]
    }
   ],
   "source": [
    "print(\"Confusion Matrix:\\n \", confusion_matrix(y_test, y_pred)) "
   ]
  },
  {
   "cell_type": "code",
   "execution_count": 14,
   "id": "further-ratio",
   "metadata": {},
   "outputs": [
    {
     "name": "stdout",
     "output_type": "stream",
     "text": [
      "Accuracy :  32.25806451612903\n"
     ]
    }
   ],
   "source": [
    "print (\"Accuracy : \", accuracy_score(y_test,y_pred)*100) "
   ]
  },
  {
   "cell_type": "code",
   "execution_count": 15,
   "id": "alert-hughes",
   "metadata": {},
   "outputs": [
    {
     "name": "stdout",
     "output_type": "stream",
     "text": [
      "Report :                 precision    recall  f1-score   support\n",
      "\n",
      "         audi       0.18      1.00      0.31         2\n",
      "          bmw       0.00      0.00      0.00         2\n",
      "        dodge       0.17      0.33      0.22         3\n",
      "        honda       0.50      0.25      0.33         4\n",
      "        isuzu       0.00      0.00      0.00         1\n",
      "        mazda       0.00      0.00      0.00         4\n",
      "mercedes-benz       0.00      0.00      0.00         3\n",
      "      mercury       0.00      0.00      0.00         1\n",
      "   mitsubishi       0.00      0.00      0.00         4\n",
      "       nissan       1.00      0.75      0.86         4\n",
      "       peugot       0.23      1.00      0.38         3\n",
      "     plymouth       0.00      0.00      0.00         3\n",
      "      porsche       0.00      0.00      0.00         2\n",
      "         saab       0.00      0.00      0.00         3\n",
      "       subaru       0.00      0.00      0.00         1\n",
      "       toyota       0.45      0.83      0.59        12\n",
      "   volkswagen       0.00      0.00      0.00         5\n",
      "        volvo       0.00      0.00      0.00         5\n",
      "\n",
      "     accuracy                           0.32        62\n",
      "    macro avg       0.14      0.23      0.15        62\n",
      " weighted avg       0.21      0.32      0.23        62\n",
      "\n"
     ]
    },
    {
     "name": "stderr",
     "output_type": "stream",
     "text": [
      "C:\\Users\\DK\\anaconda3\\lib\\site-packages\\sklearn\\metrics\\_classification.py:1221: UndefinedMetricWarning: Precision and F-score are ill-defined and being set to 0.0 in labels with no predicted samples. Use `zero_division` parameter to control this behavior.\n",
      "  _warn_prf(average, modifier, msg_start, len(result))\n"
     ]
    }
   ],
   "source": [
    "print(\"Report : \", classification_report(y_test, y_pred))"
   ]
  },
  {
   "cell_type": "code",
   "execution_count": 17,
   "id": "aware-palestinian",
   "metadata": {},
   "outputs": [],
   "source": [
    "a=[]\n",
    "a.append(int(input(\"body-style:\")))\n",
    "a.append(int(input(\"fuel-type :\")))\n",
    "a.append(int(input(\"price-range\")))\n",
    "a.append(int(input(\"city-mpg:\")))\n",
    "a.append(int(input(\"no.of.cylinders:\")))\n",
    "a.append(int(input(\"no.of.doors:\")))\n",
    "a.append(int(input(\"length:\")))\n",
    "a.append(int(input(\"peak-rpm:\")))\n",
    "a.append(int(input(\"highway-mpg:\")))\n",
    "a.append(int(input(\"Gear-type:\")))"
   ]
  },
  {
   "cell_type": "code",
   "execution_count": 18,
   "id": "equipped-sector",
   "metadata": {},
   "outputs": [],
   "source": [
    "test_ip=[]\n",
    "test_ip.append(a)"
   ]
  },
  {
   "cell_type": "code",
   "execution_count": 19,
   "id": "prime-nightlife",
   "metadata": {},
   "outputs": [
    {
     "name": "stdout",
     "output_type": "stream",
     "text": [
      "toyota\n"
     ]
    }
   ],
   "source": [
    "test_pred=model.predict(test_ip)\n",
    "\n",
    "print(predict_result[test_pred[0]])"
   ]
  },
  {
   "cell_type": "code",
   "execution_count": null,
   "id": "sharp-rocket",
   "metadata": {},
   "outputs": [],
   "source": []
  },
  {
   "cell_type": "code",
   "execution_count": null,
   "id": "exceptional-element",
   "metadata": {},
   "outputs": [],
   "source": []
  }
 ],
 "metadata": {
  "kernelspec": {
   "display_name": "Python 3",
   "language": "python",
   "name": "python3"
  },
  "language_info": {
   "codemirror_mode": {
    "name": "ipython",
    "version": 3
   },
   "file_extension": ".py",
   "mimetype": "text/x-python",
   "name": "python",
   "nbconvert_exporter": "python",
   "pygments_lexer": "ipython3",
   "version": "3.8.5"
  }
 },
 "nbformat": 4,
 "nbformat_minor": 5
}
